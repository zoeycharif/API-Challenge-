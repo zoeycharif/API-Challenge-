{
 "cells": [
  {
   "cell_type": "markdown",
   "metadata": {},
   "source": [
    "# WeatherPy\n",
    "----\n",
    "\n",
    "#### Note\n",
    "* Instructions have been included for each segment. You do not have to follow them exactly, but they are included to help you think through the steps."
   ]
  },
  {
   "cell_type": "code",
   "execution_count": 96,
   "metadata": {
    "scrolled": true
   },
   "outputs": [],
   "source": [
    "# Dependencies and Setup\n",
    "import matplotlib.pyplot as plt\n",
    "import pandas as pd\n",
    "import numpy as np\n",
    "import requests\n",
    "import time\n",
    "from scipy.stats import linregress\n",
    "\n",
    "# Import API key\n",
    "from api_keys import weather_api_key\n",
    "\n",
    "# Incorporated citipy to determine city based on latitude and longitude\n",
    "from citipy import citipy\n",
    "\n",
    "# Output File (CSV)\n",
    "output_data_file = \"output_data/cities.csv\"\n",
    "\n",
    "# Range of latitudes and longitudes\n",
    "lat_range = (-90, 90)\n",
    "lng_range = (-180, 180)"
   ]
  },
  {
   "cell_type": "markdown",
   "metadata": {},
   "source": [
    "## Generate Cities List"
   ]
  },
  {
   "cell_type": "code",
   "execution_count": 97,
   "metadata": {},
   "outputs": [
    {
     "data": {
      "text/plain": [
       "624"
      ]
     },
     "execution_count": 97,
     "metadata": {},
     "output_type": "execute_result"
    }
   ],
   "source": [
    "# List for holding lat_lngs and cities\n",
    "lat_lngs = []\n",
    "cities = []\n",
    "\n",
    "# Create a set of random lat and lng combinations\n",
    "lats = np.random.uniform(lat_range[0], lat_range[1], size=1500)\n",
    "lngs = np.random.uniform(lng_range[0], lng_range[1], size=1500)\n",
    "lat_lngs = zip(lats, lngs)\n",
    "\n",
    "# Identify nearest city for each lat, lng combination\n",
    "for lat_lng in lat_lngs:\n",
    "    city = citipy.nearest_city(lat_lng[0], lat_lng[1]).city_name\n",
    "    \n",
    "    # If the city is unique, then add it to a our cities list\n",
    "    if city not in cities:\n",
    "        cities.append(city)\n",
    "\n",
    "# Print the city count to confirm sufficient count\n",
    "len(cities)"
   ]
  },
  {
   "cell_type": "markdown",
   "metadata": {},
   "source": [
    "### Perform API Calls\n",
    "* Perform a weather check on each city using a series of successive API calls.\n",
    "* Include a print log of each city as it'sbeing processed (with the city number and city name).\n"
   ]
  },
  {
   "cell_type": "code",
   "execution_count": 98,
   "metadata": {},
   "outputs": [
    {
     "name": "stdout",
     "output_type": "stream",
     "text": [
      "Beginning Data Retreival\n",
      "-----------------------------\n",
      "Processing Record 0 of Set something | victoria.\n",
      "Processing Record 1 of Set something | dzhusaly.\n",
      "City not found. Skipping...\n",
      "Processing Record 2 of Set something | cidreira.\n",
      "Processing Record 3 of Set something | new norfolk.\n",
      "Processing Record 4 of Set something | kapaa.\n",
      "Processing Record 5 of Set something | kahului.\n",
      "Processing Record 6 of Set something | tori.\n",
      "Processing Record 7 of Set something | tiksi.\n",
      "Processing Record 8 of Set something | barlad.\n",
      "Processing Record 9 of Set something | aguimes.\n",
      "Processing Record 10 of Set something | ambulu.\n",
      "Processing Record 11 of Set something | barentsburg.\n",
      "City not found. Skipping...\n",
      "Processing Record 12 of Set something | beringovskiy.\n",
      "Processing Record 13 of Set something | bredasdorp.\n",
      "Processing Record 14 of Set something | vostok.\n",
      "Processing Record 15 of Set something | airai.\n",
      "Processing Record 16 of Set something | smolensk.\n",
      "Processing Record 17 of Set something | nanzhou.\n",
      "Processing Record 18 of Set something | tuatapere.\n",
      "Processing Record 19 of Set something | vestmannaeyjar.\n",
      "Processing Record 20 of Set something | thompson.\n",
      "Processing Record 21 of Set something | kota belud.\n",
      "Processing Record 22 of Set something | arraial do cabo.\n",
      "Processing Record 23 of Set something | egvekinot.\n",
      "Processing Record 24 of Set something | tazovskiy.\n",
      "Processing Record 25 of Set something | rikitea.\n",
      "Processing Record 26 of Set something | atuona.\n",
      "Processing Record 27 of Set something | puerto ayora.\n",
      "Processing Record 28 of Set something | hithadhoo.\n",
      "Processing Record 29 of Set something | aklavik.\n",
      "Processing Record 30 of Set something | buhoci.\n",
      "Processing Record 31 of Set something | westerly.\n",
      "Processing Record 32 of Set something | buin.\n",
      "Processing Record 33 of Set something | la solana.\n",
      "Processing Record 34 of Set something | canora.\n",
      "Processing Record 35 of Set something | mys shmidta.\n",
      "City not found. Skipping...\n",
      "Processing Record 36 of Set something | souillac.\n",
      "Processing Record 37 of Set something | merauke.\n",
      "Processing Record 38 of Set something | korla.\n",
      "Processing Record 39 of Set something | atar.\n",
      "Processing Record 40 of Set something | karratha.\n",
      "Processing Record 41 of Set something | wadi musa.\n",
      "Processing Record 42 of Set something | hermanus.\n",
      "Processing Record 43 of Set something | cape town.\n",
      "Processing Record 44 of Set something | axim.\n",
      "Processing Record 45 of Set something | provideniya.\n",
      "Processing Record 46 of Set something | nouadhibou.\n",
      "Processing Record 47 of Set something | sulzbach-rosenberg.\n",
      "Processing Record 48 of Set something | nadym.\n",
      "Processing Record 49 of Set something | jamestown.\n",
      "Processing Record 50 of Set something | cairns.\n",
      "Processing Record 51 of Set something | kautokeino.\n",
      "Processing Record 52 of Set something | palmer.\n",
      "Processing Record 53 of Set something | port alfred.\n",
      "Processing Record 54 of Set something | tomatlan.\n",
      "Processing Record 55 of Set something | hualmay.\n",
      "Processing Record 56 of Set something | kodiak.\n",
      "Processing Record 57 of Set something | mar del plata.\n",
      "Processing Record 58 of Set something | richards bay.\n",
      "Processing Record 59 of Set something | vaini.\n",
      "Processing Record 60 of Set something | christchurch.\n",
      "Processing Record 61 of Set something | ushuaia.\n",
      "Processing Record 62 of Set something | bambous virieux.\n",
      "Processing Record 63 of Set something | hobart.\n",
      "Processing Record 64 of Set something | avarua.\n",
      "Processing Record 65 of Set something | albany.\n",
      "Processing Record 66 of Set something | ambon.\n",
      "Processing Record 67 of Set something | kosh-agach.\n",
      "Processing Record 68 of Set something | bluff.\n",
      "Processing Record 69 of Set something | hilo.\n",
      "Processing Record 70 of Set something | meulaboh.\n",
      "Processing Record 71 of Set something | nizhneyansk.\n",
      "City not found. Skipping...\n",
      "Processing Record 72 of Set something | kushmurun.\n",
      "Processing Record 73 of Set something | taolanaro.\n",
      "City not found. Skipping...\n",
      "Processing Record 74 of Set something | sitka.\n",
      "Processing Record 75 of Set something | cascais.\n",
      "Processing Record 76 of Set something | russell.\n",
      "Processing Record 77 of Set something | cabedelo.\n",
      "Processing Record 78 of Set something | fairbanks.\n",
      "Processing Record 79 of Set something | castro.\n",
      "Processing Record 80 of Set something | viligili.\n",
      "City not found. Skipping...\n",
      "Processing Record 81 of Set something | port augusta.\n",
      "Processing Record 82 of Set something | barrow.\n",
      "Processing Record 83 of Set something | palu.\n",
      "Processing Record 84 of Set something | tefe.\n",
      "Processing Record 85 of Set something | jalu.\n",
      "Processing Record 86 of Set something | hofn.\n",
      "Processing Record 87 of Set something | lata.\n",
      "Processing Record 88 of Set something | allende.\n",
      "Processing Record 89 of Set something | bethel.\n",
      "Processing Record 90 of Set something | east london.\n",
      "Processing Record 91 of Set something | le port.\n",
      "Processing Record 92 of Set something | villamontes.\n",
      "Processing Record 93 of Set something | rio bravo.\n",
      "Processing Record 94 of Set something | yellowknife.\n",
      "Processing Record 95 of Set something | busselton.\n",
      "Processing Record 96 of Set something | labuhan.\n",
      "Processing Record 97 of Set something | vila franca do campo.\n",
      "Processing Record 98 of Set something | ponta delgada.\n",
      "Processing Record 99 of Set something | rawson.\n",
      "Processing Record 100 of Set something | malwan.\n",
      "City not found. Skipping...\n",
      "Processing Record 101 of Set something | mataura.\n",
      "Processing Record 102 of Set something | longyearbyen.\n",
      "Processing Record 103 of Set something | nanortalik.\n",
      "Processing Record 104 of Set something | amga.\n",
      "Processing Record 105 of Set something | henties bay.\n",
      "Processing Record 106 of Set something | carnarvon.\n",
      "Processing Record 107 of Set something | quelimane.\n",
      "Processing Record 108 of Set something | upernavik.\n",
      "Processing Record 109 of Set something | dianopolis.\n",
      "City not found. Skipping...\n",
      "Processing Record 110 of Set something | flinders.\n",
      "Processing Record 111 of Set something | pimenta bueno.\n",
      "Processing Record 112 of Set something | tuktoyaktuk.\n",
      "Processing Record 113 of Set something | bethal.\n",
      "Processing Record 114 of Set something | liverpool.\n",
      "Processing Record 115 of Set something | magione.\n",
      "Processing Record 116 of Set something | kinlochleven.\n",
      "Processing Record 117 of Set something | punta arenas.\n",
      "Processing Record 118 of Set something | iqaluit.\n",
      "Processing Record 119 of Set something | mogadishu.\n",
      "Processing Record 120 of Set something | illoqqortoormiut.\n",
      "City not found. Skipping...\n",
      "Processing Record 121 of Set something | tsihombe.\n",
      "City not found. Skipping...\n",
      "Processing Record 122 of Set something | nikolskoye.\n",
      "Processing Record 123 of Set something | kungurtug.\n",
      "Processing Record 124 of Set something | mackay.\n",
      "Processing Record 125 of Set something | chokurdakh.\n",
      "Processing Record 126 of Set something | ulladulla.\n",
      "Processing Record 127 of Set something | butaritari.\n",
      "Processing Record 128 of Set something | kemin.\n",
      "Processing Record 129 of Set something | lorengau.\n",
      "Processing Record 130 of Set something | eidfjord.\n",
      "Processing Record 131 of Set something | bandarbeyla.\n",
      "Processing Record 132 of Set something | malanville.\n",
      "Processing Record 133 of Set something | mangan.\n",
      "Processing Record 134 of Set something | saint george.\n",
      "Processing Record 135 of Set something | clyde river.\n",
      "Processing Record 136 of Set something | benito juarez.\n",
      "Processing Record 137 of Set something | rio grande.\n",
      "Processing Record 138 of Set something | tasiilaq.\n",
      "Processing Record 139 of Set something | zyryanka.\n",
      "Processing Record 140 of Set something | adeje.\n",
      "Processing Record 141 of Set something | penarroya-pueblonuevo.\n",
      "Processing Record 142 of Set something | tawnat.\n",
      "City not found. Skipping...\n",
      "Processing Record 143 of Set something | plougastel-daoulas.\n",
      "Processing Record 144 of Set something | norman wells.\n",
      "Processing Record 145 of Set something | stokmarknes.\n",
      "Processing Record 146 of Set something | khormuj.\n",
      "City not found. Skipping...\n",
      "Processing Record 147 of Set something | ilulissat.\n",
      "Processing Record 148 of Set something | lac du bonnet.\n",
      "Processing Record 149 of Set something | valleyview.\n",
      "Processing Record 150 of Set something | tirumullaivasal.\n",
      "Processing Record 151 of Set something | dikson.\n",
      "Processing Record 152 of Set something | sudzha.\n",
      "Processing Record 153 of Set something | san vicente.\n"
     ]
    },
    {
     "name": "stdout",
     "output_type": "stream",
     "text": [
      "Processing Record 154 of Set something | kruisfontein.\n",
      "Processing Record 155 of Set something | isangel.\n",
      "Processing Record 156 of Set something | kavieng.\n",
      "Processing Record 157 of Set something | westport.\n",
      "Processing Record 158 of Set something | coromandel.\n",
      "Processing Record 159 of Set something | hobyo.\n",
      "Processing Record 160 of Set something | rumuruti.\n",
      "Processing Record 161 of Set something | luderitz.\n",
      "Processing Record 162 of Set something | wanning.\n",
      "Processing Record 163 of Set something | talnakh.\n",
      "Processing Record 164 of Set something | severo-kurilsk.\n",
      "Processing Record 165 of Set something | nguiu.\n",
      "City not found. Skipping...\n",
      "Processing Record 166 of Set something | shingu.\n",
      "Processing Record 167 of Set something | georgetown.\n",
      "Processing Record 168 of Set something | taltal.\n",
      "Processing Record 169 of Set something | port blair.\n",
      "Processing Record 170 of Set something | anadyr.\n",
      "Processing Record 171 of Set something | benalla.\n",
      "Processing Record 172 of Set something | aberdeen.\n",
      "Processing Record 173 of Set something | udayagiri.\n",
      "Processing Record 174 of Set something | north bend.\n",
      "Processing Record 175 of Set something | saint-philippe.\n",
      "Processing Record 176 of Set something | sarai sidhu.\n",
      "Processing Record 177 of Set something | samarai.\n",
      "Processing Record 178 of Set something | noumea.\n",
      "Processing Record 179 of Set something | binzhou.\n",
      "Processing Record 180 of Set something | grand river south east.\n",
      "City not found. Skipping...\n",
      "Processing Record 181 of Set something | torbay.\n",
      "Processing Record 182 of Set something | tautira.\n",
      "Processing Record 183 of Set something | saskylakh.\n",
      "Processing Record 184 of Set something | point fortin.\n",
      "Processing Record 185 of Set something | ponta do sol.\n",
      "Processing Record 186 of Set something | port lincoln.\n",
      "Processing Record 187 of Set something | ribeira grande.\n",
      "Processing Record 188 of Set something | dingle.\n",
      "Processing Record 189 of Set something | lisakovsk.\n",
      "Processing Record 190 of Set something | cuamba.\n",
      "Processing Record 191 of Set something | enid.\n",
      "Processing Record 192 of Set something | praia da vitoria.\n",
      "Processing Record 193 of Set something | alice springs.\n",
      "Processing Record 194 of Set something | cheuskiny.\n",
      "City not found. Skipping...\n",
      "Processing Record 195 of Set something | jishou.\n",
      "Processing Record 196 of Set something | lolua.\n",
      "City not found. Skipping...\n",
      "Processing Record 197 of Set something | belushya guba.\n",
      "City not found. Skipping...\n",
      "Processing Record 198 of Set something | gimli.\n",
      "Processing Record 199 of Set something | kaitangata.\n",
      "Processing Record 200 of Set something | vila velha.\n",
      "Processing Record 201 of Set something | kanigoro.\n",
      "Processing Record 202 of Set something | yinchuan.\n",
      "Processing Record 203 of Set something | constitucion.\n",
      "Processing Record 204 of Set something | general roca.\n",
      "Processing Record 205 of Set something | brokopondo.\n",
      "Processing Record 206 of Set something | simbahan.\n",
      "Processing Record 207 of Set something | noyabrsk.\n",
      "Processing Record 208 of Set something | providencia.\n",
      "Processing Record 209 of Set something | cururupu.\n",
      "Processing Record 210 of Set something | esperance.\n",
      "Processing Record 211 of Set something | saint-pierre.\n",
      "Processing Record 212 of Set something | lalibela.\n",
      "Processing Record 213 of Set something | maniwaki.\n",
      "Processing Record 214 of Set something | veydelevka.\n",
      "Processing Record 215 of Set something | cayenne.\n",
      "Processing Record 216 of Set something | nalhati.\n",
      "Processing Record 217 of Set something | chihuahua.\n",
      "Processing Record 218 of Set something | mogapinyana.\n",
      "Processing Record 219 of Set something | sungaipenuh.\n",
      "Processing Record 220 of Set something | novyy urgal.\n",
      "Processing Record 221 of Set something | fort-shevchenko.\n",
      "Processing Record 222 of Set something | pitimbu.\n",
      "Processing Record 223 of Set something | la ronge.\n",
      "Processing Record 224 of Set something | eyl.\n",
      "Processing Record 225 of Set something | codrington.\n",
      "Processing Record 226 of Set something | hokitika.\n",
      "Processing Record 227 of Set something | waingapu.\n",
      "Processing Record 228 of Set something | inhambane.\n",
      "Processing Record 229 of Set something | san patricio.\n",
      "Processing Record 230 of Set something | tumannyy.\n",
      "City not found. Skipping...\n",
      "Processing Record 231 of Set something | seoul.\n",
      "Processing Record 232 of Set something | katsuura.\n",
      "Processing Record 233 of Set something | tessalit.\n",
      "Processing Record 234 of Set something | deputatskiy.\n",
      "Processing Record 235 of Set something | huadian.\n",
      "Processing Record 236 of Set something | hamilton.\n",
      "Processing Record 237 of Set something | haverfordwest.\n",
      "Processing Record 238 of Set something | kodinsk.\n",
      "Processing Record 239 of Set something | eirunepe.\n",
      "Processing Record 240 of Set something | tambun.\n",
      "Processing Record 241 of Set something | sal rei.\n",
      "Processing Record 242 of Set something | andros town.\n",
      "Processing Record 243 of Set something | gushikawa.\n",
      "Processing Record 244 of Set something | nome.\n",
      "Processing Record 245 of Set something | los llanos de aridane.\n",
      "Processing Record 246 of Set something | baykit.\n",
      "Processing Record 247 of Set something | arman.\n",
      "Processing Record 248 of Set something | tambopata.\n",
      "Processing Record 249 of Set something | nieuw amsterdam.\n",
      "Processing Record 250 of Set something | coihaique.\n",
      "Processing Record 251 of Set something | sao joao da barra.\n",
      "Processing Record 252 of Set something | mayumba.\n",
      "Processing Record 253 of Set something | nago.\n",
      "Processing Record 254 of Set something | villa del rosario.\n",
      "Processing Record 255 of Set something | olafsvik.\n",
      "Processing Record 256 of Set something | alberton.\n",
      "Processing Record 257 of Set something | chacabuco.\n",
      "Processing Record 258 of Set something | waddan.\n",
      "Processing Record 259 of Set something | caravelas.\n",
      "Processing Record 260 of Set something | yeppoon.\n",
      "Processing Record 261 of Set something | morehead.\n",
      "Processing Record 262 of Set something | vardo.\n",
      "Processing Record 263 of Set something | changji.\n",
      "Processing Record 264 of Set something | ouadda.\n",
      "Processing Record 265 of Set something | cherskiy.\n",
      "Processing Record 266 of Set something | baiyin.\n",
      "Processing Record 267 of Set something | maceio.\n",
      "Processing Record 268 of Set something | saldanha.\n",
      "Processing Record 269 of Set something | benton harbor.\n",
      "Processing Record 270 of Set something | winthrop.\n",
      "Processing Record 271 of Set something | raduzhnyy.\n",
      "Processing Record 272 of Set something | leshukonskoye.\n",
      "Processing Record 273 of Set something | salalah.\n",
      "Processing Record 274 of Set something | fiche.\n",
      "Processing Record 275 of Set something | qaanaaq.\n",
      "Processing Record 276 of Set something | monywa.\n",
      "Processing Record 277 of Set something | mumford.\n",
      "Processing Record 278 of Set something | pangnirtung.\n",
      "Processing Record 279 of Set something | margate.\n",
      "Processing Record 280 of Set something | mahebourg.\n",
      "Processing Record 281 of Set something | abu zabad.\n",
      "Processing Record 282 of Set something | bathsheba.\n",
      "Processing Record 283 of Set something | izberbash.\n",
      "Processing Record 284 of Set something | santa cruz.\n",
      "Processing Record 285 of Set something | pirmasens.\n",
      "Processing Record 286 of Set something | san cristobal.\n",
      "Processing Record 287 of Set something | baculin.\n",
      "Processing Record 288 of Set something | gat.\n",
      "Processing Record 289 of Set something | khash.\n",
      "Processing Record 290 of Set something | banjar.\n",
      "Processing Record 291 of Set something | picton.\n",
      "Processing Record 292 of Set something | yerbogachen.\n",
      "Processing Record 293 of Set something | yenagoa.\n",
      "Processing Record 294 of Set something | aksu.\n",
      "Processing Record 295 of Set something | kysyl-syr.\n",
      "Processing Record 296 of Set something | kandrian.\n",
      "Processing Record 297 of Set something | bud.\n",
      "Processing Record 298 of Set something | bengkulu.\n",
      "Processing Record 299 of Set something | sofrino.\n",
      "Processing Record 300 of Set something | guerrero negro.\n",
      "Processing Record 301 of Set something | huarmey.\n",
      "Processing Record 302 of Set something | khatanga.\n",
      "Processing Record 303 of Set something | asifabad.\n",
      "Processing Record 304 of Set something | jiangkou.\n",
      "Processing Record 305 of Set something | kamenka.\n",
      "Processing Record 306 of Set something | sulina.\n",
      "Processing Record 307 of Set something | tabuk.\n",
      "Processing Record 308 of Set something | naze.\n",
      "Processing Record 309 of Set something | ballina.\n",
      "Processing Record 310 of Set something | bargal.\n",
      "City not found. Skipping...\n",
      "Processing Record 311 of Set something | grand gaube.\n",
      "Processing Record 312 of Set something | bethanien.\n",
      "Processing Record 313 of Set something | atambua.\n",
      "Processing Record 314 of Set something | aflu.\n",
      "City not found. Skipping...\n",
      "Processing Record 315 of Set something | halifax.\n",
      "Processing Record 316 of Set something | ferkessedougou.\n",
      "Processing Record 317 of Set something | macas.\n",
      "Processing Record 318 of Set something | carupano.\n",
      "Processing Record 319 of Set something | namatanai.\n",
      "Processing Record 320 of Set something | midyat.\n",
      "Processing Record 321 of Set something | puerto escondido.\n",
      "Processing Record 322 of Set something | asyut.\n",
      "Processing Record 323 of Set something | bambanglipuro.\n",
      "Processing Record 324 of Set something | da lat.\n",
      "Processing Record 325 of Set something | vangaindrano.\n",
      "Processing Record 326 of Set something | monterey.\n",
      "Processing Record 327 of Set something | olongapo.\n",
      "Processing Record 328 of Set something | shimoda.\n",
      "Processing Record 329 of Set something | san quintin.\n",
      "Processing Record 330 of Set something | vaitupu.\n",
      "City not found. Skipping...\n",
      "Processing Record 331 of Set something | zhezkazgan.\n",
      "Processing Record 332 of Set something | robertson.\n",
      "Processing Record 333 of Set something | palembang.\n",
      "Processing Record 334 of Set something | kurilsk.\n",
      "Processing Record 335 of Set something | broome.\n",
      "Processing Record 336 of Set something | ola.\n",
      "Processing Record 337 of Set something | bang phae.\n",
      "Processing Record 338 of Set something | plettenberg bay.\n",
      "Processing Record 339 of Set something | maumere.\n",
      "Processing Record 340 of Set something | manutuke.\n",
      "Processing Record 341 of Set something | tikrit.\n",
      "Processing Record 342 of Set something | cody.\n",
      "Processing Record 343 of Set something | pevek.\n",
      "Processing Record 344 of Set something | kalanguy.\n",
      "Processing Record 345 of Set something | mahon.\n",
      "Processing Record 346 of Set something | camargo.\n",
      "Processing Record 347 of Set something | kinango.\n",
      "Processing Record 348 of Set something | hutchinson.\n",
      "Processing Record 349 of Set something | bose.\n",
      "Processing Record 350 of Set something | srednekolymsk.\n",
      "Processing Record 351 of Set something | adrar.\n",
      "Processing Record 352 of Set something | souris.\n",
      "Processing Record 353 of Set something | salazie.\n",
      "Processing Record 354 of Set something | faya.\n",
      "Processing Record 355 of Set something | okmulgee.\n",
      "Processing Record 356 of Set something | bilibino.\n",
      "Processing Record 357 of Set something | sao jose da coroa grande.\n",
      "Processing Record 358 of Set something | yumen.\n",
      "Processing Record 359 of Set something | sao filipe.\n",
      "Processing Record 360 of Set something | yar-sale.\n",
      "Processing Record 361 of Set something | kavaratti.\n",
      "Processing Record 362 of Set something | lewiston.\n",
      "Processing Record 363 of Set something | semey.\n",
      "Processing Record 364 of Set something | namibe.\n",
      "Processing Record 365 of Set something | acapulco.\n",
      "Processing Record 366 of Set something | shache.\n",
      "Processing Record 367 of Set something | kisangani.\n",
      "Processing Record 368 of Set something | hibbing.\n",
      "Processing Record 369 of Set something | amderma.\n",
      "City not found. Skipping...\n",
      "Processing Record 370 of Set something | pilar.\n",
      "Processing Record 371 of Set something | kununurra.\n",
      "Processing Record 372 of Set something | olinda.\n",
      "Processing Record 373 of Set something | rungata.\n",
      "City not found. Skipping...\n",
      "Processing Record 374 of Set something | lebu.\n",
      "Processing Record 375 of Set something | umzimvubu.\n",
      "City not found. Skipping...\n",
      "Processing Record 376 of Set something | solwezi.\n",
      "Processing Record 377 of Set something | nioro.\n",
      "Processing Record 378 of Set something | tual.\n",
      "Processing Record 379 of Set something | san rafael.\n",
      "Processing Record 380 of Set something | maningrida.\n",
      "Processing Record 381 of Set something | scottsbluff.\n",
      "Processing Record 382 of Set something | vitim.\n",
      "Processing Record 383 of Set something | peniche.\n",
      "Processing Record 384 of Set something | muzhi.\n",
      "Processing Record 385 of Set something | manono.\n",
      "Processing Record 386 of Set something | mutsamudu.\n",
      "City not found. Skipping...\n",
      "Processing Record 387 of Set something | vengerovo.\n",
      "Processing Record 388 of Set something | nanga eboko.\n",
      "Processing Record 389 of Set something | port elizabeth.\n",
      "Processing Record 390 of Set something | siavonga.\n",
      "Processing Record 391 of Set something | nizwa.\n",
      "Processing Record 392 of Set something | troitskoye.\n",
      "Processing Record 393 of Set something | chuy.\n",
      "Processing Record 394 of Set something | dhanera.\n",
      "Processing Record 395 of Set something | ossora.\n",
      "Processing Record 396 of Set something | yulara.\n",
      "Processing Record 397 of Set something | lompoc.\n",
      "Processing Record 398 of Set something | belyy yar.\n",
      "Processing Record 399 of Set something | itarema.\n",
      "Processing Record 400 of Set something | husavik.\n",
      "Processing Record 401 of Set something | upington.\n",
      "Processing Record 402 of Set something | felanitx.\n",
      "Processing Record 403 of Set something | goundam.\n",
      "Processing Record 404 of Set something | haines junction.\n",
      "Processing Record 405 of Set something | houston.\n",
      "Processing Record 406 of Set something | muros.\n",
      "Processing Record 407 of Set something | babanusah.\n",
      "City not found. Skipping...\n",
      "Processing Record 408 of Set something | fort saint john.\n",
      "City not found. Skipping...\n",
      "Processing Record 409 of Set something | fortuna.\n",
      "Processing Record 410 of Set something | hasaki.\n",
      "Processing Record 411 of Set something | jomalig.\n",
      "City not found. Skipping...\n",
      "Processing Record 412 of Set something | meyungs.\n",
      "City not found. Skipping...\n",
      "Processing Record 413 of Set something | baykalovo.\n",
      "Processing Record 414 of Set something | coquimbo.\n",
      "Processing Record 415 of Set something | metro.\n",
      "Processing Record 416 of Set something | college.\n",
      "Processing Record 417 of Set something | cabo san lucas.\n",
      "Processing Record 418 of Set something | agadez.\n",
      "Processing Record 419 of Set something | bahia honda.\n",
      "Processing Record 420 of Set something | pointe-noire.\n",
      "Processing Record 421 of Set something | seymchan.\n",
      "Processing Record 422 of Set something | riberalta.\n",
      "Processing Record 423 of Set something | ende.\n",
      "Processing Record 424 of Set something | cambridge.\n",
      "Processing Record 425 of Set something | wakiso.\n",
      "Processing Record 426 of Set something | batagay-alyta.\n",
      "Processing Record 427 of Set something | sangar.\n",
      "Processing Record 428 of Set something | rengo.\n",
      "Processing Record 429 of Set something | wilmington.\n",
      "Processing Record 430 of Set something | lao cai.\n",
      "Processing Record 431 of Set something | tukrah.\n",
      "Processing Record 432 of Set something | geraldton.\n",
      "Processing Record 433 of Set something | zhigansk.\n",
      "Processing Record 434 of Set something | turayf.\n",
      "Processing Record 435 of Set something | turukhansk.\n",
      "Processing Record 436 of Set something | kazalinsk.\n",
      "City not found. Skipping...\n",
      "Processing Record 437 of Set something | hirara.\n",
      "Processing Record 438 of Set something | takoradi.\n",
      "Processing Record 439 of Set something | hamina.\n",
      "Processing Record 440 of Set something | savinka.\n",
      "Processing Record 441 of Set something | pisco.\n",
      "Processing Record 442 of Set something | palabuhanratu.\n",
      "City not found. Skipping...\n",
      "Processing Record 443 of Set something | manta.\n",
      "Processing Record 444 of Set something | komsomolskiy.\n",
      "Processing Record 445 of Set something | belaya kholunitsa.\n",
      "Processing Record 446 of Set something | bandrele.\n",
      "Processing Record 447 of Set something | key largo.\n",
      "Processing Record 448 of Set something | kushima.\n",
      "Processing Record 449 of Set something | khasan.\n",
      "Processing Record 450 of Set something | guiyang.\n",
      "Processing Record 451 of Set something | chicama.\n",
      "Processing Record 452 of Set something | dickinson.\n",
      "Processing Record 453 of Set something | lomovka.\n",
      "Processing Record 454 of Set something | vaitape.\n",
      "Processing Record 455 of Set something | baripada.\n",
      "Processing Record 456 of Set something | liuzhou.\n",
      "Processing Record 457 of Set something | nicoya.\n",
      "Processing Record 458 of Set something | thunder bay.\n",
      "Processing Record 459 of Set something | mount isa.\n",
      "Processing Record 460 of Set something | acarau.\n",
      "Processing Record 461 of Set something | arlit.\n",
      "Processing Record 462 of Set something | rivne.\n"
     ]
    },
    {
     "name": "stdout",
     "output_type": "stream",
     "text": [
      "Processing Record 463 of Set something | lakhdenpokhya.\n",
      "Processing Record 464 of Set something | camacha.\n",
      "Processing Record 465 of Set something | zabaykalsk.\n",
      "Processing Record 466 of Set something | harper.\n",
      "Processing Record 467 of Set something | kyra.\n",
      "Processing Record 468 of Set something | ostrovnoy.\n",
      "Processing Record 469 of Set something | bintulu.\n",
      "Processing Record 470 of Set something | dudinka.\n",
      "Processing Record 471 of Set something | maldonado.\n",
      "Processing Record 472 of Set something | itaueira.\n",
      "Processing Record 473 of Set something | jojoima.\n",
      "Processing Record 474 of Set something | faanui.\n",
      "Processing Record 475 of Set something | marawi.\n",
      "Processing Record 476 of Set something | kupang.\n",
      "Processing Record 477 of Set something | sabzevar.\n",
      "Processing Record 478 of Set something | ancud.\n",
      "Processing Record 479 of Set something | muisne.\n",
      "Processing Record 480 of Set something | kanniyakumari.\n",
      "Processing Record 481 of Set something | hay river.\n",
      "Processing Record 482 of Set something | lloro.\n",
      "Processing Record 483 of Set something | saleaula.\n",
      "City not found. Skipping...\n",
      "Processing Record 484 of Set something | sur.\n",
      "Processing Record 485 of Set something | bohdan.\n",
      "Processing Record 486 of Set something | muncar.\n",
      "Processing Record 487 of Set something | sorland.\n",
      "Processing Record 488 of Set something | leander.\n",
      "Processing Record 489 of Set something | anahuac.\n",
      "Processing Record 490 of Set something | ngunguru.\n",
      "Processing Record 491 of Set something | ngama.\n",
      "Processing Record 492 of Set something | urumqi.\n",
      "Processing Record 493 of Set something | pontianak.\n",
      "Processing Record 494 of Set something | mahanje.\n",
      "Processing Record 495 of Set something | qaqortoq.\n",
      "Processing Record 496 of Set something | chiang khong.\n",
      "Processing Record 497 of Set something | scarborough.\n",
      "Processing Record 498 of Set something | mareeba.\n",
      "Processing Record 499 of Set something | xaxim.\n",
      "Processing Record 500 of Set something | santa rosa.\n",
      "Processing Record 501 of Set something | morwell.\n",
      "Processing Record 502 of Set something | mehamn.\n",
      "Processing Record 503 of Set something | laurel.\n",
      "Processing Record 504 of Set something | thabazimbi.\n",
      "Processing Record 505 of Set something | samalaeulu.\n",
      "City not found. Skipping...\n",
      "Processing Record 506 of Set something | traverse city.\n",
      "Processing Record 507 of Set something | honiara.\n",
      "Processing Record 508 of Set something | eureka.\n",
      "Processing Record 509 of Set something | sinnamary.\n",
      "Processing Record 510 of Set something | nuevo progreso.\n",
      "Processing Record 511 of Set something | karakendzha.\n",
      "City not found. Skipping...\n",
      "Processing Record 512 of Set something | linjiang.\n",
      "Processing Record 513 of Set something | nemuro.\n",
      "Processing Record 514 of Set something | vieux-habitants.\n",
      "Processing Record 515 of Set something | bereda.\n",
      "Processing Record 516 of Set something | yuxia.\n",
      "Processing Record 517 of Set something | road town.\n",
      "Processing Record 518 of Set something | grahamstown.\n",
      "Processing Record 519 of Set something | san carlos de bariloche.\n",
      "Processing Record 520 of Set something | elizabeth city.\n",
      "Processing Record 521 of Set something | nantucket.\n",
      "Processing Record 522 of Set something | saint anthony.\n",
      "Processing Record 523 of Set something | khani.\n",
      "Processing Record 524 of Set something | touros.\n",
      "Processing Record 525 of Set something | lagunas.\n",
      "Processing Record 526 of Set something | tabiauea.\n",
      "City not found. Skipping...\n",
      "Processing Record 527 of Set something | cacoal.\n",
      "Processing Record 528 of Set something | asau.\n",
      "Processing Record 529 of Set something | petropavlovsk-kamchatskiy.\n",
      "Processing Record 530 of Set something | itu.\n",
      "Processing Record 531 of Set something | maragogi.\n",
      "Processing Record 532 of Set something | zalantun.\n",
      "Processing Record 533 of Set something | prince rupert.\n",
      "Processing Record 534 of Set something | requena.\n",
      "Processing Record 535 of Set something | antalaha.\n",
      "Processing Record 536 of Set something | gizo.\n",
      "Processing Record 537 of Set something | le passage.\n",
      "Processing Record 538 of Set something | roebourne.\n",
      "Processing Record 539 of Set something | alofi.\n",
      "Processing Record 540 of Set something | maloshuyka.\n",
      "City not found. Skipping...\n",
      "Processing Record 541 of Set something | taoudenni.\n",
      "Processing Record 542 of Set something | beauchamps.\n",
      "Processing Record 543 of Set something | havelock.\n",
      "Processing Record 544 of Set something | shakiso.\n",
      "Processing Record 545 of Set something | mendi.\n",
      "Processing Record 546 of Set something | qui nhon.\n",
      "Processing Record 547 of Set something | galesong.\n",
      "Processing Record 548 of Set something | bosaso.\n",
      "Processing Record 549 of Set something | jambi.\n",
      "Processing Record 550 of Set something | cherdakly.\n",
      "Processing Record 551 of Set something | bubaque.\n",
      "Processing Record 552 of Set something | lagos.\n",
      "Processing Record 553 of Set something | guasdualito.\n",
      "Processing Record 554 of Set something | kailua.\n",
      "Processing Record 555 of Set something | tura.\n",
      "Processing Record 556 of Set something | kloulklubed.\n",
      "Processing Record 557 of Set something | raton.\n",
      "Processing Record 558 of Set something | bam.\n",
      "Processing Record 559 of Set something | shatalovo.\n",
      "Processing Record 560 of Set something | tiznit.\n",
      "Processing Record 561 of Set something | tilichiki.\n",
      "Processing Record 562 of Set something | nizhnyaya omka.\n",
      "Processing Record 563 of Set something | morondava.\n",
      "Processing Record 564 of Set something | bossembele.\n",
      "City not found. Skipping...\n",
      "Processing Record 565 of Set something | oistins.\n",
      "Processing Record 566 of Set something | vacaria.\n",
      "Processing Record 567 of Set something | hangu.\n",
      "Processing Record 568 of Set something | ketchikan.\n",
      "Processing Record 569 of Set something | matagami.\n",
      "Processing Record 570 of Set something | halalo.\n",
      "City not found. Skipping...\n",
      "Processing Record 571 of Set something | cross lanes.\n",
      "Processing Record 572 of Set something | havoysund.\n",
      "Processing Record 573 of Set something | nouakchott.\n",
      "Processing Record 574 of Set something | atbasar.\n",
      "Processing Record 575 of Set something | bauchi.\n",
      "Processing Record 576 of Set something | bafra.\n",
      "Processing Record 577 of Set something | spirit river.\n",
      "Processing Record 578 of Set something | yangambi.\n",
      "Processing Record 579 of Set something | quebo.\n",
      "Processing Record 580 of Set something | pacific grove.\n",
      "Processing Record 581 of Set something | vao.\n",
      "Processing Record 582 of Set something | at-bashi.\n",
      "Processing Record 583 of Set something | ikalamavony.\n",
      "Processing Record 584 of Set something | asosa.\n",
      "Processing Record 585 of Set something | biak.\n",
      "Processing Record 586 of Set something | avera.\n",
      "Processing Record 587 of Set something | maniitsoq.\n",
      "Processing Record 588 of Set something | samusu.\n",
      "City not found. Skipping...\n",
      "Processing Record 589 of Set something | orange.\n",
      "Processing Record 590 of Set something | miramar.\n",
      "Processing Record 591 of Set something | raga.\n",
      "Processing Record 592 of Set something | emerald.\n",
      "Processing Record 593 of Set something | ormara.\n",
      "Processing Record 594 of Set something | santa isabel do rio negro.\n",
      "Processing Record 595 of Set something | klaksvik.\n",
      "Processing Record 596 of Set something | pochutla.\n",
      "Processing Record 597 of Set something | sekoma.\n",
      "Processing Record 598 of Set something | crestview.\n",
      "Processing Record 599 of Set something | quatre cocos.\n",
      "Processing Record 600 of Set something | cockburn town.\n",
      "Processing Record 601 of Set something | aswan.\n",
      "Processing Record 602 of Set something | tiarei.\n",
      "Processing Record 603 of Set something | gotsu.\n",
      "Processing Record 604 of Set something | magadan.\n",
      "Processing Record 605 of Set something | vilhena.\n",
      "Processing Record 606 of Set something | mutis.\n",
      "Processing Record 607 of Set something | labutta.\n",
      "City not found. Skipping...\n",
      "Processing Record 608 of Set something | vetluzhskiy.\n",
      "Processing Record 609 of Set something | port hardy.\n",
      "Processing Record 610 of Set something | nelson bay.\n",
      "Processing Record 611 of Set something | falmouth.\n",
      "Processing Record 612 of Set something | nabire.\n",
      "Processing Record 613 of Set something | auckland.\n",
      "Processing Record 614 of Set something | kyzyl-suu.\n",
      "Processing Record 615 of Set something | te anau.\n",
      "Processing Record 616 of Set something | abbeville.\n",
      "Processing Record 617 of Set something | taganak.\n",
      "Processing Record 618 of Set something | mastic beach.\n"
     ]
    },
    {
     "name": "stdout",
     "output_type": "stream",
     "text": [
      "Processing Record 619 of Set something | saryshagan.\n",
      "City not found. Skipping...\n",
      "Processing Record 620 of Set something | savonlinna.\n",
      "Processing Record 621 of Set something | sentyabrskiy.\n",
      "City not found. Skipping...\n",
      "Processing Record 622 of Set something | gorontalo.\n",
      "Processing Record 623 of Set something | watertown.\n",
      "-----------------------------\n",
      "Data Retrieval Complete\n",
      "-----------------------------\n"
     ]
    }
   ],
   "source": [
    "# set up for loop counter\n",
    "cities_count = len(cities)\n",
    "\n",
    "#set up lists \n",
    "# initialize various lists\n",
    "City = []\n",
    "Lat = []\n",
    "Lng = []\n",
    "Max_Temp = []\n",
    "Humidity = []\n",
    "Cloudiness = []\n",
    "Wind_Speed = []\n",
    "Country = []\n",
    "Date = []\n",
    "\n",
    "url = \"http://api.openweathermap.org/data/2.5/weather?\"\n",
    "#query_url = url + \"appid=\" + weather_api_key + \"&q=\" + city\n",
    "\n",
    "# header\n",
    "print(\"Beginning Data Retreival\")\n",
    "print(\"-----------------------------\")\n",
    "\n",
    "# loop through all the cities\n",
    "\n",
    "for x in range(cities_count):\n",
    "    print(f\"Processing Record {x} of Set something | {cities[x]}.\")\n",
    "    params = {\"q\":cities[x],\n",
    "                  \"units\":\"imperial\",\n",
    "                \"appid\":weather_api_key}\n",
    "    try:      \n",
    "        response = requests.get(url, params=params)\n",
    "        response_json = response.json()\n",
    "    \n",
    "        # read the json into the various lists\n",
    "        City.append(response_json['name'])\n",
    "        Lat.append(response_json['coord']['lat'])\n",
    "        Lng.append(response_json['coord']['lon'])\n",
    "        Max_Temp.append(response_json['main']['temp_max'])\n",
    "        Humidity.append(response_json['main']['humidity'])\n",
    "        Cloudiness.append(response_json['clouds']['all'])\n",
    "        Wind_Speed.append(response_json['wind']['speed'])\n",
    "        Country.append(response_json['sys']['country'])\n",
    "        Date.append(response_json['dt'])\n",
    "    except:\n",
    "        print('City not found. Skipping...')\n",
    "\n",
    "print('-----------------------------')\n",
    "print('Data Retrieval Complete')\n",
    "print('-----------------------------')"
   ]
  },
  {
   "cell_type": "code",
   "execution_count": null,
   "metadata": {},
   "outputs": [],
   "source": []
  },
  {
   "cell_type": "markdown",
   "metadata": {},
   "source": [
    "### Convert Raw Data to DataFrame\n",
    "* Export the city data into a .csv.\n",
    "* Display the DataFrame"
   ]
  },
  {
   "cell_type": "code",
   "execution_count": 99,
   "metadata": {},
   "outputs": [
    {
     "data": {
      "text/html": [
       "<div>\n",
       "<style scoped>\n",
       "    .dataframe tbody tr th:only-of-type {\n",
       "        vertical-align: middle;\n",
       "    }\n",
       "\n",
       "    .dataframe tbody tr th {\n",
       "        vertical-align: top;\n",
       "    }\n",
       "\n",
       "    .dataframe thead th {\n",
       "        text-align: right;\n",
       "    }\n",
       "</style>\n",
       "<table border=\"1\" class=\"dataframe\">\n",
       "  <thead>\n",
       "    <tr style=\"text-align: right;\">\n",
       "      <th></th>\n",
       "      <th>City</th>\n",
       "      <th>Lat</th>\n",
       "      <th>Lng</th>\n",
       "      <th>Max Temp</th>\n",
       "      <th>Humidity</th>\n",
       "      <th>Cloudiness</th>\n",
       "      <th>Windspeed</th>\n",
       "      <th>Country</th>\n",
       "      <th>Date</th>\n",
       "    </tr>\n",
       "  </thead>\n",
       "  <tbody>\n",
       "    <tr>\n",
       "      <td>0</td>\n",
       "      <td>Hong Kong</td>\n",
       "      <td>22.29</td>\n",
       "      <td>114.16</td>\n",
       "      <td>78.01</td>\n",
       "      <td>78</td>\n",
       "      <td>85</td>\n",
       "      <td>4.25</td>\n",
       "      <td>HK</td>\n",
       "      <td>1587340010</td>\n",
       "    </tr>\n",
       "    <tr>\n",
       "      <td>1</td>\n",
       "      <td>Cidreira</td>\n",
       "      <td>-30.18</td>\n",
       "      <td>-50.21</td>\n",
       "      <td>68.07</td>\n",
       "      <td>85</td>\n",
       "      <td>0</td>\n",
       "      <td>16.93</td>\n",
       "      <td>BR</td>\n",
       "      <td>1587340226</td>\n",
       "    </tr>\n",
       "    <tr>\n",
       "      <td>2</td>\n",
       "      <td>New Norfolk</td>\n",
       "      <td>-42.78</td>\n",
       "      <td>147.06</td>\n",
       "      <td>57.00</td>\n",
       "      <td>91</td>\n",
       "      <td>100</td>\n",
       "      <td>7.74</td>\n",
       "      <td>AU</td>\n",
       "      <td>1587340226</td>\n",
       "    </tr>\n",
       "    <tr>\n",
       "      <td>3</td>\n",
       "      <td>Kapaa</td>\n",
       "      <td>22.08</td>\n",
       "      <td>-159.32</td>\n",
       "      <td>80.60</td>\n",
       "      <td>61</td>\n",
       "      <td>1</td>\n",
       "      <td>10.29</td>\n",
       "      <td>US</td>\n",
       "      <td>1587340226</td>\n",
       "    </tr>\n",
       "    <tr>\n",
       "      <td>4</td>\n",
       "      <td>Kahului</td>\n",
       "      <td>20.89</td>\n",
       "      <td>-156.47</td>\n",
       "      <td>82.40</td>\n",
       "      <td>51</td>\n",
       "      <td>40</td>\n",
       "      <td>9.17</td>\n",
       "      <td>US</td>\n",
       "      <td>1587340227</td>\n",
       "    </tr>\n",
       "  </tbody>\n",
       "</table>\n",
       "</div>"
      ],
      "text/plain": [
       "          City    Lat     Lng  Max Temp  Humidity  Cloudiness  Windspeed  \\\n",
       "0    Hong Kong  22.29  114.16     78.01        78          85       4.25   \n",
       "1     Cidreira -30.18  -50.21     68.07        85           0      16.93   \n",
       "2  New Norfolk -42.78  147.06     57.00        91         100       7.74   \n",
       "3        Kapaa  22.08 -159.32     80.60        61           1      10.29   \n",
       "4      Kahului  20.89 -156.47     82.40        51          40       9.17   \n",
       "\n",
       "  Country        Date  \n",
       "0      HK  1587340010  \n",
       "1      BR  1587340226  \n",
       "2      AU  1587340226  \n",
       "3      US  1587340226  \n",
       "4      US  1587340227  "
      ]
     },
     "execution_count": 99,
     "metadata": {},
     "output_type": "execute_result"
    }
   ],
   "source": [
    "# create a data frame from cities, lat, and temp\n",
    "weather_dict = {\n",
    "    \"City\": City, \"Lat\": Lat, \"Lng\": Lng, \"Max Temp\": Max_Temp, \n",
    "    \"Humidity\" : Humidity, \"Cloudiness\": Cloudiness, \"Windspeed\": Wind_Speed,\n",
    "    \"Country\": Country, \"Date\": Date\n",
    "}\n",
    "weather_data = pd.DataFrame(weather_dict)\n",
    "weather_data.head()"
   ]
  },
  {
   "cell_type": "code",
   "execution_count": 100,
   "metadata": {},
   "outputs": [],
   "source": [
    "# write data to a csv\n",
    "weather_data.to_csv('weather_data_file.csv', index = False)"
   ]
  },
  {
   "cell_type": "markdown",
   "metadata": {},
   "source": [
    "## Inspect the data and remove the cities where the humidity > 100%.\n",
    "----\n",
    "Skip this step if there are no cities that have humidity > 100%. "
   ]
  },
  {
   "cell_type": "code",
   "execution_count": 101,
   "metadata": {},
   "outputs": [
    {
     "data": {
      "text/plain": [
       "582"
      ]
     },
     "execution_count": 101,
     "metadata": {},
     "output_type": "execute_result"
    }
   ],
   "source": [
    "#find out how many entries the df contains\n",
    "len(weather_data)"
   ]
  },
  {
   "cell_type": "code",
   "execution_count": 102,
   "metadata": {},
   "outputs": [
    {
     "data": {
      "text/plain": [
       "0"
      ]
     },
     "execution_count": 102,
     "metadata": {},
     "output_type": "execute_result"
    }
   ],
   "source": [
    "#use loc function to identify values under 'Humidity' over 100 (>100)\n",
    "\n",
    "humidity_data = weather_data.loc[weather_data['Humidity'] > 100]\n",
    "\n",
    "len(humidity_data)\n",
    "\n",
    "#output indicates there are 0 entries in the Humidity column over 100, so I will be skipping this step.  \n"
   ]
  },
  {
   "cell_type": "markdown",
   "metadata": {},
   "source": [
    "## Plotting the Data\n",
    "* Use proper labeling of the plots using plot titles (including date of analysis) and axes labels.\n",
    "* Save the plotted figures as .pngs."
   ]
  },
  {
   "cell_type": "markdown",
   "metadata": {},
   "source": [
    "## Latitude vs. Temperature Plot"
   ]
  },
  {
   "cell_type": "code",
   "execution_count": 103,
   "metadata": {
    "scrolled": true
   },
   "outputs": [
    {
     "data": {
      "image/png": "[encoded data removed]",
      "text/plain": [
       "<Figure size 576x360 with 1 Axes>"
      ]
     },
     "metadata": {
      "needs_background": "light"
     },
     "output_type": "display_data"
    },
    {
     "data": {
      "text/plain": [
       "<Figure size 432x288 with 0 Axes>"
      ]
     },
     "metadata": {},
     "output_type": "display_data"
    }
   ],
   "source": [
    "fig, ax1 = plt.subplots(figsize=(8,5))\n",
    "\n",
    "x_values = weather_data['Max Temp']\n",
    "y_values = weather_data['Lat']\n",
    "ax1.set_xlabel('Temperature')\n",
    "ax1.set_ylabel('Latitude')\n",
    "ax1.set_title('Latitude Vs Temperature')\n",
    "\n",
    "plt.scatter(x_values, y_values)\n",
    "\n",
    "#Get the linear regression\n",
    "(slope, intercept, rvalue, pvalue, stderr) = linregress(x_values, y_values)\n",
    "regress_values = x_values * slope + intercept\n",
    "plt.plot(x_values,regress_values,\"r-\")\n",
    "\n",
    "plt.show()\n",
    "\n",
    "plt.savefig(\"Scatter1.png\", bbox_inches='tight', dpi=600)"
   ]
  },
  {
   "cell_type": "markdown",
   "metadata": {},
   "source": [
    "## Latitude vs. Humidity Plot"
   ]
  },
  {
   "cell_type": "code",
   "execution_count": 104,
   "metadata": {},
   "outputs": [
    {
     "data": {
      "image/png": "[encoded data removed]",
      "text/plain": [
       "<Figure size 576x360 with 1 Axes>"
      ]
     },
     "metadata": {
      "needs_background": "light"
     },
     "output_type": "display_data"
    },
    {
     "data": {
      "text/plain": [
       "<Figure size 432x288 with 0 Axes>"
      ]
     },
     "metadata": {},
     "output_type": "display_data"
    }
   ],
   "source": [
    "fig, ax2 = plt.subplots(figsize=(8,5))\n",
    "\n",
    "x_values = weather_data['Lat']\n",
    "y_values = weather_data['Humidity']\n",
    "ax2.set_xlabel('Latitude')\n",
    "ax2.set_ylabel('Humidity (%)')\n",
    "ax2.set_title('City Latitude vs. Humidity (04/01/20)')\n",
    "\n",
    "plt.scatter(x_values, y_values)\n",
    "\n",
    "#Get the linear regression\n",
    "(slope, intercept, rvalue, pvalue, stderr) = linregress(x_values, y_values)\n",
    "regress_values = x_values * slope + intercept\n",
    "plt.plot(x_values,regress_values,\"r-\")\n",
    "\n",
    "plt.show()\n",
    "\n",
    "plt.savefig(\"Scatter2.png\", bbox_inches='tight', dpi=600)"
   ]
  },
  {
   "cell_type": "code",
   "execution_count": null,
   "metadata": {},
   "outputs": [],
   "source": []
  },
  {
   "cell_type": "markdown",
   "metadata": {},
   "source": [
    "## Latitude vs. Cloudiness Plot"
   ]
  },
  {
   "cell_type": "code",
   "execution_count": 105,
   "metadata": {},
   "outputs": [
    {
     "data": {
      "image/png": "[encoded data removed]",
      "text/plain": [
       "<Figure size 576x360 with 1 Axes>"
      ]
     },
     "metadata": {
      "needs_background": "light"
     },
     "output_type": "display_data"
    },
    {
     "data": {
      "text/plain": [
       "<Figure size 432x288 with 0 Axes>"
      ]
     },
     "metadata": {},
     "output_type": "display_data"
    }
   ],
   "source": [
    "fig, ax3 = plt.subplots(figsize=(8,5))\n",
    "\n",
    "x_values = weather_data['Lat']\n",
    "y_values = weather_data['Cloudiness']\n",
    "ax3.set_xlabel('Latitude')\n",
    "ax3.set_ylabel('Cloudiness (%)')\n",
    "ax3.set_title('City Latitude vs. Cloudiness (04/01/20)')\n",
    "\n",
    "plt.scatter(x_values, y_values)\n",
    "\n",
    "\n",
    "#Get the linear regression\n",
    "(slope, intercept, rvalue, pvalue, stderr) = linregress(x_values, y_values)\n",
    "regress_values = x_values * slope + intercept\n",
    "plt.plot(x_values,regress_values,\"r-\")\n",
    "\n",
    "plt.show()\n",
    "plt.savefig(\"Scatter3.png\", bbox_inches='tight', dpi=600)"
   ]
  },
  {
   "cell_type": "markdown",
   "metadata": {},
   "source": [
    "## Latitude vs. Wind Speed Plot"
   ]
  },
  {
   "cell_type": "code",
   "execution_count": 106,
   "metadata": {},
   "outputs": [
    {
     "data": {
      "image/png": "[encoded data removed]",
      "text/plain": [
       "<Figure size 576x360 with 1 Axes>"
      ]
     },
     "metadata": {
      "needs_background": "light"
     },
     "output_type": "display_data"
    },
    {
     "data": {
      "text/plain": [
       "<Figure size 432x288 with 0 Axes>"
      ]
     },
     "metadata": {},
     "output_type": "display_data"
    }
   ],
   "source": [
    "fig, ax4 = plt.subplots(figsize=(8,5))\n",
    "\n",
    "x_values = weather_data['Lat']\n",
    "y_values = weather_data['Windspeed']\n",
    "ax4.set_xlabel('Latitude')\n",
    "ax4.set_ylabel('Wind Speed (mph)')\n",
    "ax4.set_title('City Latitude vs. Wind Speed (04/01/20)')\n",
    "\n",
    "plt.scatter(x_values, y_values)\n",
    "\n",
    "\n",
    "#Get the linear regression\n",
    "(slope, intercept, rvalue, pvalue, stderr) = linregress(x_values, y_values)\n",
    "regress_values = x_values * slope + intercept\n",
    "plt.plot(x_values,regress_values,\"r-\")\n",
    "\n",
    "plt.show()\n",
    "plt.savefig(\"Scatter4.png\", bbox_inches='tight', dpi=600)"
   ]
  },
  {
   "cell_type": "markdown",
   "metadata": {},
   "source": [
    "## Linear Regression"
   ]
  },
  {
   "cell_type": "code",
   "execution_count": 107,
   "metadata": {},
   "outputs": [
    {
     "data": {
      "text/plain": [
       "189"
      ]
     },
     "execution_count": 107,
     "metadata": {},
     "output_type": "execute_result"
    }
   ],
   "source": [
    "# Create Northern and Southern Hemisphere DataFrames\n",
    "\n",
    "northern_weather_data = weather_data.loc[weather_data['Lat'] > 0]\n",
    "southern_weather_data = weather_data.loc[weather_data['Lat'] < 0 ]\n",
    "len(southern_weather_data)"
   ]
  },
  {
   "cell_type": "markdown",
   "metadata": {},
   "source": [
    "####  Northern Hemisphere - Max Temp vs. Latitude Linear Regression"
   ]
  },
  {
   "cell_type": "code",
   "execution_count": 108,
   "metadata": {},
   "outputs": [
    {
     "data": {
      "image/png": "[encoded data removed]",
      "text/plain": [
       "<Figure size 576x360 with 1 Axes>"
      ]
     },
     "metadata": {
      "needs_background": "light"
     },
     "output_type": "display_data"
    },
    {
     "name": "stdout",
     "output_type": "stream",
     "text": [
      "The r-squared is: 0.054758225212677196\n"
     ]
    },
    {
     "data": {
      "text/plain": [
       "<Figure size 432x288 with 0 Axes>"
      ]
     },
     "metadata": {},
     "output_type": "display_data"
    }
   ],
   "source": [
    "fig, ax5 = plt.subplots(figsize=(8,5))\n",
    "\n",
    "x_values = northern_weather_data['Lat']\n",
    "y_values = northern_weather_data['Windspeed']\n",
    "ax5.set_xlabel('Latitude')\n",
    "ax5.set_ylabel('Wind Speed (mph)')\n",
    "\n",
    "plt.scatter(x_values, y_values)\n",
    "\n",
    "\n",
    "#Get the linear regression\n",
    "(slope, intercept, rvalue, pvalue, stderr) = linregress(x_values, y_values)\n",
    "regress_values = x_values * slope + intercept\n",
    "plt.plot(x_values,regress_values,\"r-\")\n",
    "\n",
    "plt.show()\n",
    "plt.savefig(\"Scatter5.png\", bbox_inches='tight', dpi=600)\n",
    "\n",
    "print(f\"The r-squared is: {rvalue**2}\")"
   ]
  },
  {
   "cell_type": "markdown",
   "metadata": {},
   "source": [
    "####  Southern Hemisphere - Max Temp vs. Latitude Linear Regression"
   ]
  },
  {
   "cell_type": "code",
   "execution_count": 109,
   "metadata": {},
   "outputs": [
    {
     "data": {
      "image/png": "[encoded data removed]",
      "text/plain": [
       "<Figure size 576x360 with 1 Axes>"
      ]
     },
     "metadata": {
      "needs_background": "light"
     },
     "output_type": "display_data"
    },
    {
     "name": "stdout",
     "output_type": "stream",
     "text": [
      "The r-squared is: 0.5331741335758025\n"
     ]
    },
    {
     "data": {
      "text/plain": [
       "<Figure size 432x288 with 0 Axes>"
      ]
     },
     "metadata": {},
     "output_type": "display_data"
    }
   ],
   "source": [
    "fig, ax6 = plt.subplots(figsize=(8,5))\n",
    "\n",
    "x_values = southern_weather_data['Lat']\n",
    "y_values = southern_weather_data['Max Temp']\n",
    "ax6.set_xlabel('Latitude')\n",
    "ax6.set_ylabel('Max Temp')\n",
    "\n",
    "plt.scatter(x_values, y_values)\n",
    "\n",
    "\n",
    "#Get the linear regression\n",
    "(slope, intercept, rvalue, pvalue, stderr) = linregress(x_values, y_values)\n",
    "regress_values = x_values * slope + intercept\n",
    "plt.plot(x_values,regress_values,\"r-\")\n",
    "\n",
    "plt.show()\n",
    "plt.savefig(\"Scatter6.png\", bbox_inches='tight', dpi=600)\n",
    "\n",
    "print(f\"The r-squared is: {rvalue**2}\")"
   ]
  },
  {
   "cell_type": "markdown",
   "metadata": {},
   "source": [
    "####  Northern Hemisphere - Humidity (%) vs. Latitude Linear Regression"
   ]
  },
  {
   "cell_type": "code",
   "execution_count": 110,
   "metadata": {},
   "outputs": [
    {
     "data": {
      "image/png": "[encoded data removed]",
      "text/plain": [
       "<Figure size 576x360 with 1 Axes>"
      ]
     },
     "metadata": {
      "needs_background": "light"
     },
     "output_type": "display_data"
    },
    {
     "name": "stdout",
     "output_type": "stream",
     "text": [
      "The r-squared is: 0.0654738108861745\n"
     ]
    },
    {
     "data": {
      "text/plain": [
       "<Figure size 432x288 with 0 Axes>"
      ]
     },
     "metadata": {},
     "output_type": "display_data"
    }
   ],
   "source": [
    "fig, ax7 = plt.subplots(figsize=(8,5))\n",
    "\n",
    "x_values = northern_weather_data['Lat']\n",
    "y_values = northern_weather_data['Humidity']\n",
    "ax7.set_xlabel('Latitude')\n",
    "ax7.set_ylabel('Humidity')\n",
    "\n",
    "plt.scatter(x_values, y_values)\n",
    "\n",
    "\n",
    "#Get the linear regression\n",
    "(slope, intercept, rvalue, pvalue, stderr) = linregress(x_values, y_values)\n",
    "regress_values = x_values * slope + intercept\n",
    "plt.plot(x_values,regress_values,\"r-\")\n",
    "\n",
    "plt.show()\n",
    "plt.savefig(\"Scatter7.png\", bbox_inches='tight', dpi=600)\n",
    "\n",
    "print(f\"The r-squared is: {rvalue**2}\")"
   ]
  },
  {
   "cell_type": "markdown",
   "metadata": {},
   "source": [
    "####  Southern Hemisphere - Humidity (%) vs. Latitude Linear Regression"
   ]
  },
  {
   "cell_type": "code",
   "execution_count": 111,
   "metadata": {},
   "outputs": [
    {
     "data": {
      "image/png": "[encoded data removed]",
      "text/plain": [
       "<Figure size 576x360 with 1 Axes>"
      ]
     },
     "metadata": {
      "needs_background": "light"
     },
     "output_type": "display_data"
    },
    {
     "name": "stdout",
     "output_type": "stream",
     "text": [
      "The r-squared is: 0.057456679854084904\n"
     ]
    },
    {
     "data": {
      "text/plain": [
       "<Figure size 432x288 with 0 Axes>"
      ]
     },
     "metadata": {},
     "output_type": "display_data"
    }
   ],
   "source": [
    "fig, ax8 = plt.subplots(figsize=(8,5))\n",
    "\n",
    "x_values = southern_weather_data['Lat']\n",
    "y_values = southern_weather_data['Humidity']\n",
    "ax8.set_xlabel('Latitude')\n",
    "ax8.set_ylabel('Humidity')\n",
    "\n",
    "plt.scatter(x_values, y_values)\n",
    "\n",
    "\n",
    "#Get the linear regression\n",
    "(slope, intercept, rvalue, pvalue, stderr) = linregress(x_values, y_values)\n",
    "regress_values = x_values * slope + intercept\n",
    "plt.plot(x_values,regress_values,\"r-\")\n",
    "\n",
    "plt.show()\n",
    "plt.savefig(\"Scatter8.png\", bbox_inches='tight', dpi=600)\n",
    "\n",
    "print(f\"The r-squared is: {rvalue**2}\")"
   ]
  },
  {
   "cell_type": "markdown",
   "metadata": {},
   "source": [
    "####  Northern Hemisphere - Cloudiness (%) vs. Latitude Linear Regression"
   ]
  },
  {
   "cell_type": "code",
   "execution_count": 112,
   "metadata": {},
   "outputs": [
    {
     "data": {
      "image/png": "[encoded data removed]",
      "text/plain": [
       "<Figure size 576x360 with 1 Axes>"
      ]
     },
     "metadata": {
      "needs_background": "light"
     },
     "output_type": "display_data"
    },
    {
     "name": "stdout",
     "output_type": "stream",
     "text": [
      "The r-squared is: 0.0034834483481656093\n"
     ]
    },
    {
     "data": {
      "text/plain": [
       "<Figure size 432x288 with 0 Axes>"
      ]
     },
     "metadata": {},
     "output_type": "display_data"
    }
   ],
   "source": [
    "fig, ax9 = plt.subplots(figsize=(8,5))\n",
    "\n",
    "x_values = northern_weather_data['Lat']\n",
    "y_values = northern_weather_data['Cloudiness']\n",
    "ax9.set_xlabel('Latitude')\n",
    "ax9.set_ylabel('Cloudiness')\n",
    "\n",
    "plt.scatter(x_values, y_values)\n",
    "\n",
    "\n",
    "#Get the linear regression\n",
    "(slope, intercept, rvalue, pvalue, stderr) = linregress(x_values, y_values)\n",
    "regress_values = x_values * slope + intercept\n",
    "plt.plot(x_values,regress_values,\"r-\")\n",
    "\n",
    "plt.show()\n",
    "plt.savefig(\"Scatter9.png\", bbox_inches='tight', dpi=600)\n",
    "\n",
    "print(f\"The r-squared is: {rvalue**2}\")"
   ]
  },
  {
   "cell_type": "markdown",
   "metadata": {},
   "source": [
    "####  Southern Hemisphere - Cloudiness (%) vs. Latitude Linear Regression"
   ]
  },
  {
   "cell_type": "code",
   "execution_count": 113,
   "metadata": {},
   "outputs": [
    {
     "data": {
      "image/png": "[encoded data removed]",
      "text/plain": [
       "<Figure size 576x360 with 1 Axes>"
      ]
     },
     "metadata": {
      "needs_background": "light"
     },
     "output_type": "display_data"
    },
    {
     "name": "stdout",
     "output_type": "stream",
     "text": [
      "The r-squared is: 0.0003688925837422422\n"
     ]
    },
    {
     "data": {
      "text/plain": [
       "<Figure size 432x288 with 0 Axes>"
      ]
     },
     "metadata": {},
     "output_type": "display_data"
    }
   ],
   "source": [
    "fig, ax10 = plt.subplots(figsize=(8,5))\n",
    "\n",
    "x_values = southern_weather_data['Lat']\n",
    "y_values = southern_weather_data['Cloudiness']\n",
    "ax10.set_xlabel('Latitude')\n",
    "ax10.set_ylabel('Cloudiness')\n",
    "\n",
    "plt.scatter(x_values, y_values)\n",
    "\n",
    "\n",
    "#Get the linear regression\n",
    "(slope, intercept, rvalue, pvalue, stderr) = linregress(x_values, y_values)\n",
    "regress_values = x_values * slope + intercept\n",
    "plt.plot(x_values,regress_values,\"r-\")\n",
    "\n",
    "plt.show()\n",
    "plt.savefig(\"Scatter10.png\", bbox_inches='tight', dpi=600)\n",
    "\n",
    "print(f\"The r-squared is: {rvalue**2}\")"
   ]
  },
  {
   "cell_type": "markdown",
   "metadata": {},
   "source": [
    "####  Northern Hemisphere - Wind Speed (mph) vs. Latitude Linear Regression"
   ]
  },
  {
   "cell_type": "code",
   "execution_count": 114,
   "metadata": {},
   "outputs": [
    {
     "data": {
      "image/png": "[encoded data removed]",
      "text/plain": [
       "<Figure size 576x360 with 1 Axes>"
      ]
     },
     "metadata": {
      "needs_background": "light"
     },
     "output_type": "display_data"
    },
    {
     "name": "stdout",
     "output_type": "stream",
     "text": [
      "The r-squared is: 0.054758225212677196\n"
     ]
    },
    {
     "data": {
      "text/plain": [
       "<Figure size 432x288 with 0 Axes>"
      ]
     },
     "metadata": {},
     "output_type": "display_data"
    }
   ],
   "source": [
    "fig, ax11 = plt.subplots(figsize=(8,5))\n",
    "\n",
    "x_values = northern_weather_data['Lat']\n",
    "y_values = northern_weather_data['Windspeed']\n",
    "ax11.set_xlabel('Latitude')\n",
    "ax11.set_ylabel('Wind Speed')\n",
    "\n",
    "plt.scatter(x_values, y_values)\n",
    "\n",
    "\n",
    "#Get the linear regression\n",
    "(slope, intercept, rvalue, pvalue, stderr) = linregress(x_values, y_values)\n",
    "regress_values = x_values * slope + intercept\n",
    "plt.plot(x_values,regress_values,\"r-\")\n",
    "\n",
    "plt.show()\n",
    "plt.savefig(\"Scatter11.png\", bbox_inches='tight', dpi=600)\n",
    "\n",
    "print(f\"The r-squared is: {rvalue**2}\")"
   ]
  },
  {
   "cell_type": "markdown",
   "metadata": {},
   "source": [
    "####  Southern Hemisphere - Wind Speed (mph) vs. Latitude Linear Regression"
   ]
  },
  {
   "cell_type": "code",
   "execution_count": 116,
   "metadata": {},
   "outputs": [
    {
     "data": {
      "image/png": "[encoded data removed]",
      "text/plain": [
       "<Figure size 576x360 with 1 Axes>"
      ]
     },
     "metadata": {
      "needs_background": "light"
     },
     "output_type": "display_data"
    },
    {
     "name": "stdout",
     "output_type": "stream",
     "text": [
      "The r-squared is: 0.16779320369797268\n"
     ]
    },
    {
     "data": {
      "text/plain": [
       "<Figure size 432x288 with 0 Axes>"
      ]
     },
     "metadata": {},
     "output_type": "display_data"
    }
   ],
   "source": [
    "fig, ax12 = plt.subplots(figsize=(8,5))\n",
    "\n",
    "x_values = southern_weather_data['Lat']\n",
    "y_values = southern_weather_data['Windspeed']\n",
    "ax12.set_xlabel('Latitude')\n",
    "ax12.set_ylabel('Wind Speed')\n",
    "\n",
    "plt.scatter(x_values, y_values)\n",
    "\n",
    "\n",
    "#Get the linear regression\n",
    "(slope, intercept, rvalue, pvalue, stderr) = linregress(x_values, y_values)\n",
    "regress_values = x_values * slope + intercept\n",
    "plt.plot(x_values,regress_values,\"r-\")\n",
    "\n",
    "plt.show()\n",
    "plt.savefig(\"Scatter12.png\", bbox_inches='tight', dpi=600)\n",
    "\n",
    "print(f\"The r-squared is: {rvalue**2}\")"
   ]
  },
  {
   "cell_type": "code",
   "execution_count": null,
   "metadata": {},
   "outputs": [],
   "source": []
  },
  {
   "cell_type": "code",
   "execution_count": null,
   "metadata": {},
   "outputs": [],
   "source": []
  }
 ],
 "metadata": {
  "anaconda-cloud": {},
  "kernel_info": {
   "name": "python3"
  },
  "kernelspec": {
   "display_name": "Python 3",
   "language": "python",
   "name": "python3"
  },
  "language_info": {
   "codemirror_mode": {
    "name": "ipython",
    "version": 3
   },
   "file_extension": ".py",
   "mimetype": "text/x-python",
   "name": "python",
   "nbconvert_exporter": "python",
   "pygments_lexer": "ipython3",
   "version": "3.7.4"
  },
  "latex_envs": {
   "LaTeX_envs_menu_present": true,
   "autoclose": false,
   "autocomplete": true,
   "bibliofile": "biblio.bib",
   "cite_by": "apalike",
   "current_citInitial": 1,
   "eqLabelWithNumbers": true,
   "eqNumInitial": 1,
   "hotkeys": {
    "equation": "Ctrl-E",
    "itemize": "Ctrl-I"
   },
   "labels_anchors": false,
   "latex_user_defs": false,
   "report_style_numbering": false,
   "user_envs_cfg": false
  },
  "nteract": {
   "version": "0.12.3"
  }
 },
 "nbformat": 4,
 "nbformat_minor": 2
}
